{
 "cells": [
  {
   "cell_type": "code",
   "execution_count": 1,
   "id": "8e651659-8635-46fb-a629-3d89aa432bce",
   "metadata": {},
   "outputs": [],
   "source": [
    "import pandas as pd\n",
    "import numpy as np\n",
    "import os"
   ]
  },
  {
   "cell_type": "code",
   "execution_count": 2,
   "id": "c310078e-af12-4c25-8be4-4025b0f8981f",
   "metadata": {},
   "outputs": [],
   "source": [
    "sales = pd.read_csv('sales_data.csv')\n",
    "customer = pd.read_csv('customer_data.csv')"
   ]
  },
  {
   "cell_type": "code",
   "execution_count": 3,
   "id": "8c34896b-3608-43b7-9850-906ea49afb47",
   "metadata": {},
   "outputs": [
    {
     "data": {
      "text/html": [
       "<div>\n",
       "<style scoped>\n",
       "    .dataframe tbody tr th:only-of-type {\n",
       "        vertical-align: middle;\n",
       "    }\n",
       "\n",
       "    .dataframe tbody tr th {\n",
       "        vertical-align: top;\n",
       "    }\n",
       "\n",
       "    .dataframe thead th {\n",
       "        text-align: right;\n",
       "    }\n",
       "</style>\n",
       "<table border=\"1\" class=\"dataframe\">\n",
       "  <thead>\n",
       "    <tr style=\"text-align: right;\">\n",
       "      <th></th>\n",
       "      <th>Customer_ID</th>\n",
       "      <th>Transaction_Date</th>\n",
       "      <th>Product_ID</th>\n",
       "      <th>Product_Category</th>\n",
       "      <th>Quantity</th>\n",
       "      <th>Price</th>\n",
       "      <th>Total_Sales</th>\n",
       "    </tr>\n",
       "  </thead>\n",
       "  <tbody>\n",
       "    <tr>\n",
       "      <th>0</th>\n",
       "      <td>103</td>\n",
       "      <td>2023-01-01</td>\n",
       "      <td>49</td>\n",
       "      <td>Clothing</td>\n",
       "      <td>4</td>\n",
       "      <td>114.93</td>\n",
       "      <td>459.72</td>\n",
       "    </tr>\n",
       "    <tr>\n",
       "      <th>1</th>\n",
       "      <td>436</td>\n",
       "      <td>2023-01-02</td>\n",
       "      <td>11</td>\n",
       "      <td>Books</td>\n",
       "      <td>1</td>\n",
       "      <td>164.23</td>\n",
       "      <td>164.23</td>\n",
       "    </tr>\n",
       "    <tr>\n",
       "      <th>2</th>\n",
       "      <td>349</td>\n",
       "      <td>2023-01-03</td>\n",
       "      <td>85</td>\n",
       "      <td>Groceries</td>\n",
       "      <td>9</td>\n",
       "      <td>424.78</td>\n",
       "      <td>3823.02</td>\n",
       "    </tr>\n",
       "    <tr>\n",
       "      <th>3</th>\n",
       "      <td>271</td>\n",
       "      <td>2023-01-04</td>\n",
       "      <td>26</td>\n",
       "      <td>Books</td>\n",
       "      <td>6</td>\n",
       "      <td>365.79</td>\n",
       "      <td>2194.74</td>\n",
       "    </tr>\n",
       "    <tr>\n",
       "      <th>4</th>\n",
       "      <td>107</td>\n",
       "      <td>2023-01-05</td>\n",
       "      <td>63</td>\n",
       "      <td>Furniture</td>\n",
       "      <td>1</td>\n",
       "      <td>52.22</td>\n",
       "      <td>52.22</td>\n",
       "    </tr>\n",
       "  </tbody>\n",
       "</table>\n",
       "</div>"
      ],
      "text/plain": [
       "   Customer_ID Transaction_Date  Product_ID Product_Category  Quantity  \\\n",
       "0          103       2023-01-01          49         Clothing         4   \n",
       "1          436       2023-01-02          11            Books         1   \n",
       "2          349       2023-01-03          85        Groceries         9   \n",
       "3          271       2023-01-04          26            Books         6   \n",
       "4          107       2023-01-05          63        Furniture         1   \n",
       "\n",
       "    Price  Total_Sales  \n",
       "0  114.93       459.72  \n",
       "1  164.23       164.23  \n",
       "2  424.78      3823.02  \n",
       "3  365.79      2194.74  \n",
       "4   52.22        52.22  "
      ]
     },
     "execution_count": 3,
     "metadata": {},
     "output_type": "execute_result"
    }
   ],
   "source": [
    "sales.head()"
   ]
  },
  {
   "cell_type": "code",
   "execution_count": 4,
   "id": "e3e2a8bc-a4c0-4117-8f97-9e680394f412",
   "metadata": {},
   "outputs": [
    {
     "name": "stdout",
     "output_type": "stream",
     "text": [
      "<class 'pandas.core.frame.DataFrame'>\n",
      "RangeIndex: 1010 entries, 0 to 1009\n",
      "Data columns (total 7 columns):\n",
      " #   Column            Non-Null Count  Dtype  \n",
      "---  ------            --------------  -----  \n",
      " 0   Customer_ID       1010 non-null   int64  \n",
      " 1   Transaction_Date  1010 non-null   object \n",
      " 2   Product_ID        1010 non-null   int64  \n",
      " 3   Product_Category  1010 non-null   object \n",
      " 4   Quantity          1010 non-null   int64  \n",
      " 5   Price             990 non-null    float64\n",
      " 6   Total_Sales       1010 non-null   float64\n",
      "dtypes: float64(2), int64(3), object(2)\n",
      "memory usage: 55.4+ KB\n"
     ]
    }
   ],
   "source": [
    "sales.info()"
   ]
  },
  {
   "cell_type": "code",
   "execution_count": 5,
   "id": "99abf1b8-e895-41cc-9743-ecd43d519238",
   "metadata": {},
   "outputs": [
    {
     "data": {
      "text/plain": [
       "(1010, 7)"
      ]
     },
     "execution_count": 5,
     "metadata": {},
     "output_type": "execute_result"
    }
   ],
   "source": [
    "sales.shape"
   ]
  },
  {
   "cell_type": "code",
   "execution_count": 6,
   "id": "fadbe343-3ed4-43d6-a22e-0816e8897e6a",
   "metadata": {},
   "outputs": [
    {
     "data": {
      "text/html": [
       "<div>\n",
       "<style scoped>\n",
       "    .dataframe tbody tr th:only-of-type {\n",
       "        vertical-align: middle;\n",
       "    }\n",
       "\n",
       "    .dataframe tbody tr th {\n",
       "        vertical-align: top;\n",
       "    }\n",
       "\n",
       "    .dataframe thead th {\n",
       "        text-align: right;\n",
       "    }\n",
       "</style>\n",
       "<table border=\"1\" class=\"dataframe\">\n",
       "  <thead>\n",
       "    <tr style=\"text-align: right;\">\n",
       "      <th></th>\n",
       "      <th>Customer_ID</th>\n",
       "      <th>Age</th>\n",
       "      <th>Gender</th>\n",
       "      <th>Location</th>\n",
       "    </tr>\n",
       "  </thead>\n",
       "  <tbody>\n",
       "    <tr>\n",
       "      <th>0</th>\n",
       "      <td>1</td>\n",
       "      <td>34</td>\n",
       "      <td>Male</td>\n",
       "      <td>East</td>\n",
       "    </tr>\n",
       "    <tr>\n",
       "      <th>1</th>\n",
       "      <td>2</td>\n",
       "      <td>43</td>\n",
       "      <td>Male</td>\n",
       "      <td>North</td>\n",
       "    </tr>\n",
       "    <tr>\n",
       "      <th>2</th>\n",
       "      <td>3</td>\n",
       "      <td>30</td>\n",
       "      <td>Female</td>\n",
       "      <td>East</td>\n",
       "    </tr>\n",
       "    <tr>\n",
       "      <th>3</th>\n",
       "      <td>4</td>\n",
       "      <td>34</td>\n",
       "      <td>Male</td>\n",
       "      <td>North</td>\n",
       "    </tr>\n",
       "    <tr>\n",
       "      <th>4</th>\n",
       "      <td>5</td>\n",
       "      <td>55</td>\n",
       "      <td>Male</td>\n",
       "      <td>West</td>\n",
       "    </tr>\n",
       "  </tbody>\n",
       "</table>\n",
       "</div>"
      ],
      "text/plain": [
       "   Customer_ID  Age  Gender Location\n",
       "0            1   34    Male     East\n",
       "1            2   43    Male    North\n",
       "2            3   30  Female     East\n",
       "3            4   34    Male    North\n",
       "4            5   55    Male     West"
      ]
     },
     "execution_count": 6,
     "metadata": {},
     "output_type": "execute_result"
    }
   ],
   "source": [
    "customer.head()"
   ]
  },
  {
   "cell_type": "code",
   "execution_count": 7,
   "id": "65463929-db1d-4aa1-bd94-89eec54c543e",
   "metadata": {},
   "outputs": [
    {
     "name": "stdout",
     "output_type": "stream",
     "text": [
      "<class 'pandas.core.frame.DataFrame'>\n",
      "RangeIndex: 500 entries, 0 to 499\n",
      "Data columns (total 4 columns):\n",
      " #   Column       Non-Null Count  Dtype \n",
      "---  ------       --------------  ----- \n",
      " 0   Customer_ID  500 non-null    int64 \n",
      " 1   Age          500 non-null    int64 \n",
      " 2   Gender       500 non-null    object\n",
      " 3   Location     500 non-null    object\n",
      "dtypes: int64(2), object(2)\n",
      "memory usage: 15.8+ KB\n"
     ]
    }
   ],
   "source": [
    "customer.info()"
   ]
  },
  {
   "cell_type": "markdown",
   "id": "ec0e71a4-fc03-40a6-8d18-08efa69f49ee",
   "metadata": {},
   "source": [
    "### Filling missing price"
   ]
  },
  {
   "cell_type": "code",
   "execution_count": 8,
   "id": "ab038058-4d20-4850-8003-8c8136973dbe",
   "metadata": {},
   "outputs": [
    {
     "data": {
      "text/plain": [
       "Customer_ID         False\n",
       "Transaction_Date    False\n",
       "Product_ID          False\n",
       "Product_Category    False\n",
       "Quantity            False\n",
       "Price                True\n",
       "Total_Sales         False\n",
       "dtype: bool"
      ]
     },
     "execution_count": 8,
     "metadata": {},
     "output_type": "execute_result"
    }
   ],
   "source": [
    "sales.isna().any()"
   ]
  },
  {
   "cell_type": "code",
   "execution_count": 9,
   "id": "beb7aa03-cc4c-4370-acb9-f5d0db3e0c3c",
   "metadata": {},
   "outputs": [],
   "source": [
    "missing_price = sales[sales['Price'].isna()]"
   ]
  },
  {
   "cell_type": "code",
   "execution_count": 10,
   "id": "93d5e985-4d2e-4450-88dc-54ba13a29a97",
   "metadata": {},
   "outputs": [],
   "source": [
    "calculate_price = missing_price['Total_Sales']/ missing_price['Quantity']"
   ]
  },
  {
   "cell_type": "code",
   "execution_count": 11,
   "id": "400077f5-081b-459e-a8bd-2e3aeb31550c",
   "metadata": {},
   "outputs": [],
   "source": [
    "sales.loc[sales['Price'].isna(), 'Price'] = calculate_price"
   ]
  },
  {
   "cell_type": "code",
   "execution_count": 12,
   "id": "e00521d2-04c8-4958-8e46-d55223d7713b",
   "metadata": {},
   "outputs": [
    {
     "data": {
      "text/plain": [
       "Customer_ID         False\n",
       "Transaction_Date    False\n",
       "Product_ID          False\n",
       "Product_Category    False\n",
       "Quantity            False\n",
       "Price               False\n",
       "Total_Sales         False\n",
       "dtype: bool"
      ]
     },
     "execution_count": 12,
     "metadata": {},
     "output_type": "execute_result"
    }
   ],
   "source": [
    "sales.isna().any()"
   ]
  },
  {
   "cell_type": "markdown",
   "id": "9a9c9795-3288-4a10-9bcf-727c0c1067a4",
   "metadata": {},
   "source": [
    "### Dealing with duplicates"
   ]
  },
  {
   "cell_type": "code",
   "execution_count": 13,
   "id": "571d57d9-aef1-4bca-997f-131c0678a828",
   "metadata": {},
   "outputs": [
    {
     "data": {
      "text/html": [
       "<div>\n",
       "<style scoped>\n",
       "    .dataframe tbody tr th:only-of-type {\n",
       "        vertical-align: middle;\n",
       "    }\n",
       "\n",
       "    .dataframe tbody tr th {\n",
       "        vertical-align: top;\n",
       "    }\n",
       "\n",
       "    .dataframe thead th {\n",
       "        text-align: right;\n",
       "    }\n",
       "</style>\n",
       "<table border=\"1\" class=\"dataframe\">\n",
       "  <thead>\n",
       "    <tr style=\"text-align: right;\">\n",
       "      <th></th>\n",
       "      <th>Customer_ID</th>\n",
       "      <th>Transaction_Date</th>\n",
       "      <th>Product_ID</th>\n",
       "      <th>Product_Category</th>\n",
       "      <th>Quantity</th>\n",
       "      <th>Price</th>\n",
       "      <th>Total_Sales</th>\n",
       "    </tr>\n",
       "  </thead>\n",
       "  <tbody>\n",
       "    <tr>\n",
       "      <th>1000</th>\n",
       "      <td>58</td>\n",
       "      <td>2024-08-30</td>\n",
       "      <td>33</td>\n",
       "      <td>Books</td>\n",
       "      <td>5</td>\n",
       "      <td>292.57</td>\n",
       "      <td>1462.85</td>\n",
       "    </tr>\n",
       "    <tr>\n",
       "      <th>1001</th>\n",
       "      <td>191</td>\n",
       "      <td>2025-06-15</td>\n",
       "      <td>4</td>\n",
       "      <td>Books</td>\n",
       "      <td>7</td>\n",
       "      <td>134.22</td>\n",
       "      <td>939.54</td>\n",
       "    </tr>\n",
       "    <tr>\n",
       "      <th>1002</th>\n",
       "      <td>29</td>\n",
       "      <td>2023-07-24</td>\n",
       "      <td>67</td>\n",
       "      <td>Books</td>\n",
       "      <td>6</td>\n",
       "      <td>322.66</td>\n",
       "      <td>1935.96</td>\n",
       "    </tr>\n",
       "    <tr>\n",
       "      <th>1003</th>\n",
       "      <td>217</td>\n",
       "      <td>2023-05-01</td>\n",
       "      <td>96</td>\n",
       "      <td>Books</td>\n",
       "      <td>2</td>\n",
       "      <td>358.64</td>\n",
       "      <td>717.28</td>\n",
       "    </tr>\n",
       "    <tr>\n",
       "      <th>1004</th>\n",
       "      <td>201</td>\n",
       "      <td>2025-08-25</td>\n",
       "      <td>28</td>\n",
       "      <td>Clothing</td>\n",
       "      <td>9</td>\n",
       "      <td>111.27</td>\n",
       "      <td>1001.43</td>\n",
       "    </tr>\n",
       "    <tr>\n",
       "      <th>1005</th>\n",
       "      <td>460</td>\n",
       "      <td>2025-08-03</td>\n",
       "      <td>42</td>\n",
       "      <td>Books</td>\n",
       "      <td>2</td>\n",
       "      <td>86.38</td>\n",
       "      <td>172.76</td>\n",
       "    </tr>\n",
       "    <tr>\n",
       "      <th>1006</th>\n",
       "      <td>304</td>\n",
       "      <td>2024-02-17</td>\n",
       "      <td>45</td>\n",
       "      <td>Groceries</td>\n",
       "      <td>9</td>\n",
       "      <td>120.93</td>\n",
       "      <td>1088.37</td>\n",
       "    </tr>\n",
       "    <tr>\n",
       "      <th>1007</th>\n",
       "      <td>369</td>\n",
       "      <td>2025-02-02</td>\n",
       "      <td>95</td>\n",
       "      <td>Furniture</td>\n",
       "      <td>8</td>\n",
       "      <td>229.73</td>\n",
       "      <td>1837.84</td>\n",
       "    </tr>\n",
       "    <tr>\n",
       "      <th>1008</th>\n",
       "      <td>330</td>\n",
       "      <td>2024-12-07</td>\n",
       "      <td>11</td>\n",
       "      <td>Groceries</td>\n",
       "      <td>8</td>\n",
       "      <td>222.67</td>\n",
       "      <td>1781.36</td>\n",
       "    </tr>\n",
       "    <tr>\n",
       "      <th>1009</th>\n",
       "      <td>372</td>\n",
       "      <td>2024-07-30</td>\n",
       "      <td>67</td>\n",
       "      <td>Books</td>\n",
       "      <td>7</td>\n",
       "      <td>290.47</td>\n",
       "      <td>2033.29</td>\n",
       "    </tr>\n",
       "  </tbody>\n",
       "</table>\n",
       "</div>"
      ],
      "text/plain": [
       "      Customer_ID Transaction_Date  Product_ID Product_Category  Quantity  \\\n",
       "1000           58       2024-08-30          33            Books         5   \n",
       "1001          191       2025-06-15           4            Books         7   \n",
       "1002           29       2023-07-24          67            Books         6   \n",
       "1003          217       2023-05-01          96            Books         2   \n",
       "1004          201       2025-08-25          28         Clothing         9   \n",
       "1005          460       2025-08-03          42            Books         2   \n",
       "1006          304       2024-02-17          45        Groceries         9   \n",
       "1007          369       2025-02-02          95        Furniture         8   \n",
       "1008          330       2024-12-07          11        Groceries         8   \n",
       "1009          372       2024-07-30          67            Books         7   \n",
       "\n",
       "       Price  Total_Sales  \n",
       "1000  292.57      1462.85  \n",
       "1001  134.22       939.54  \n",
       "1002  322.66      1935.96  \n",
       "1003  358.64       717.28  \n",
       "1004  111.27      1001.43  \n",
       "1005   86.38       172.76  \n",
       "1006  120.93      1088.37  \n",
       "1007  229.73      1837.84  \n",
       "1008  222.67      1781.36  \n",
       "1009  290.47      2033.29  "
      ]
     },
     "execution_count": 13,
     "metadata": {},
     "output_type": "execute_result"
    }
   ],
   "source": [
    "sales[sales.duplicated()]"
   ]
  },
  {
   "cell_type": "code",
   "execution_count": 14,
   "id": "ba4b5a0f-8196-464e-9286-77c02e97d3cd",
   "metadata": {},
   "outputs": [],
   "source": [
    "sales.drop_duplicates(inplace = True)"
   ]
  },
  {
   "cell_type": "code",
   "execution_count": 15,
   "id": "f1142753-0482-40f1-b52a-69749bf27dbd",
   "metadata": {},
   "outputs": [
    {
     "data": {
      "text/plain": [
       "Customer_ID         False\n",
       "Transaction_Date    False\n",
       "Product_ID          False\n",
       "Product_Category    False\n",
       "Quantity            False\n",
       "Price               False\n",
       "Total_Sales         False\n",
       "dtype: bool"
      ]
     },
     "execution_count": 15,
     "metadata": {},
     "output_type": "execute_result"
    }
   ],
   "source": [
    "sales[sales.duplicated()].any()"
   ]
  },
  {
   "cell_type": "code",
   "execution_count": 16,
   "id": "286e4075-8f13-4beb-a209-1f0d24974aea",
   "metadata": {},
   "outputs": [
    {
     "data": {
      "text/plain": [
       "Customer_ID    0\n",
       "Age            0\n",
       "Gender         0\n",
       "Location       0\n",
       "dtype: int64"
      ]
     },
     "execution_count": 16,
     "metadata": {},
     "output_type": "execute_result"
    }
   ],
   "source": [
    "customer.isna().sum()"
   ]
  },
  {
   "cell_type": "code",
   "execution_count": 17,
   "id": "70e71d26-8b81-403a-a270-c1c3c0375751",
   "metadata": {},
   "outputs": [
    {
     "data": {
      "text/plain": [
       "False"
      ]
     },
     "execution_count": 17,
     "metadata": {},
     "output_type": "execute_result"
    }
   ],
   "source": [
    "customer.duplicated().any()"
   ]
  },
  {
   "cell_type": "markdown",
   "id": "46eba8d3-cf81-4bd8-b25e-05ccb94db86a",
   "metadata": {},
   "source": [
    "### Merging the cleaned data for further analysis"
   ]
  },
  {
   "cell_type": "code",
   "execution_count": 18,
   "id": "45b45006-cd95-4171-b3e5-152c0ddd7ea1",
   "metadata": {},
   "outputs": [],
   "source": [
    "all_data = pd.merge(sales,customer, on='Customer_ID', how='inner')"
   ]
  },
  {
   "cell_type": "code",
   "execution_count": 19,
   "id": "7331c9f5-3602-477c-bc6f-a5783dba09c7",
   "metadata": {},
   "outputs": [
    {
     "data": {
      "text/html": [
       "<div>\n",
       "<style scoped>\n",
       "    .dataframe tbody tr th:only-of-type {\n",
       "        vertical-align: middle;\n",
       "    }\n",
       "\n",
       "    .dataframe tbody tr th {\n",
       "        vertical-align: top;\n",
       "    }\n",
       "\n",
       "    .dataframe thead th {\n",
       "        text-align: right;\n",
       "    }\n",
       "</style>\n",
       "<table border=\"1\" class=\"dataframe\">\n",
       "  <thead>\n",
       "    <tr style=\"text-align: right;\">\n",
       "      <th></th>\n",
       "      <th>Customer_ID</th>\n",
       "      <th>Transaction_Date</th>\n",
       "      <th>Product_ID</th>\n",
       "      <th>Product_Category</th>\n",
       "      <th>Quantity</th>\n",
       "      <th>Price</th>\n",
       "      <th>Total_Sales</th>\n",
       "      <th>Age</th>\n",
       "      <th>Gender</th>\n",
       "      <th>Location</th>\n",
       "    </tr>\n",
       "  </thead>\n",
       "  <tbody>\n",
       "    <tr>\n",
       "      <th>0</th>\n",
       "      <td>103</td>\n",
       "      <td>2023-01-01</td>\n",
       "      <td>49</td>\n",
       "      <td>Clothing</td>\n",
       "      <td>4</td>\n",
       "      <td>114.93</td>\n",
       "      <td>459.72</td>\n",
       "      <td>68</td>\n",
       "      <td>Female</td>\n",
       "      <td>South</td>\n",
       "    </tr>\n",
       "    <tr>\n",
       "      <th>1</th>\n",
       "      <td>103</td>\n",
       "      <td>2023-01-09</td>\n",
       "      <td>27</td>\n",
       "      <td>Electronics</td>\n",
       "      <td>4</td>\n",
       "      <td>332.90</td>\n",
       "      <td>1331.60</td>\n",
       "      <td>68</td>\n",
       "      <td>Female</td>\n",
       "      <td>South</td>\n",
       "    </tr>\n",
       "    <tr>\n",
       "      <th>2</th>\n",
       "      <td>103</td>\n",
       "      <td>2024-07-25</td>\n",
       "      <td>7</td>\n",
       "      <td>Groceries</td>\n",
       "      <td>2</td>\n",
       "      <td>450.98</td>\n",
       "      <td>901.96</td>\n",
       "      <td>68</td>\n",
       "      <td>Female</td>\n",
       "      <td>South</td>\n",
       "    </tr>\n",
       "    <tr>\n",
       "      <th>3</th>\n",
       "      <td>436</td>\n",
       "      <td>2023-01-02</td>\n",
       "      <td>11</td>\n",
       "      <td>Books</td>\n",
       "      <td>1</td>\n",
       "      <td>164.23</td>\n",
       "      <td>164.23</td>\n",
       "      <td>51</td>\n",
       "      <td>Female</td>\n",
       "      <td>East</td>\n",
       "    </tr>\n",
       "    <tr>\n",
       "      <th>4</th>\n",
       "      <td>436</td>\n",
       "      <td>2025-03-14</td>\n",
       "      <td>18</td>\n",
       "      <td>Books</td>\n",
       "      <td>5</td>\n",
       "      <td>5.32</td>\n",
       "      <td>26.60</td>\n",
       "      <td>51</td>\n",
       "      <td>Female</td>\n",
       "      <td>East</td>\n",
       "    </tr>\n",
       "  </tbody>\n",
       "</table>\n",
       "</div>"
      ],
      "text/plain": [
       "   Customer_ID Transaction_Date  Product_ID Product_Category  Quantity  \\\n",
       "0          103       2023-01-01          49         Clothing         4   \n",
       "1          103       2023-01-09          27      Electronics         4   \n",
       "2          103       2024-07-25           7        Groceries         2   \n",
       "3          436       2023-01-02          11            Books         1   \n",
       "4          436       2025-03-14          18            Books         5   \n",
       "\n",
       "    Price  Total_Sales  Age  Gender Location  \n",
       "0  114.93       459.72   68  Female    South  \n",
       "1  332.90      1331.60   68  Female    South  \n",
       "2  450.98       901.96   68  Female    South  \n",
       "3  164.23       164.23   51  Female     East  \n",
       "4    5.32        26.60   51  Female     East  "
      ]
     },
     "execution_count": 19,
     "metadata": {},
     "output_type": "execute_result"
    }
   ],
   "source": [
    "all_data.head()"
   ]
  },
  {
   "cell_type": "code",
   "execution_count": 20,
   "id": "7572cbe7-d49b-48d9-a8fe-615589c2c8df",
   "metadata": {},
   "outputs": [
    {
     "data": {
      "text/plain": [
       "(1000, 10)"
      ]
     },
     "execution_count": 20,
     "metadata": {},
     "output_type": "execute_result"
    }
   ],
   "source": [
    "all_data.shape"
   ]
  },
  {
   "cell_type": "code",
   "execution_count": 21,
   "id": "9b6c9733-6c08-4e1c-9ae1-45df428d6e05",
   "metadata": {},
   "outputs": [
    {
     "data": {
      "text/html": [
       "<div>\n",
       "<style scoped>\n",
       "    .dataframe tbody tr th:only-of-type {\n",
       "        vertical-align: middle;\n",
       "    }\n",
       "\n",
       "    .dataframe tbody tr th {\n",
       "        vertical-align: top;\n",
       "    }\n",
       "\n",
       "    .dataframe thead th {\n",
       "        text-align: right;\n",
       "    }\n",
       "</style>\n",
       "<table border=\"1\" class=\"dataframe\">\n",
       "  <thead>\n",
       "    <tr style=\"text-align: right;\">\n",
       "      <th></th>\n",
       "      <th>Customer_ID</th>\n",
       "      <th>Product_ID</th>\n",
       "      <th>Quantity</th>\n",
       "      <th>Price</th>\n",
       "      <th>Total_Sales</th>\n",
       "      <th>Age</th>\n",
       "    </tr>\n",
       "  </thead>\n",
       "  <tbody>\n",
       "    <tr>\n",
       "      <th>count</th>\n",
       "      <td>1000.00000</td>\n",
       "      <td>1000.000000</td>\n",
       "      <td>1000.000000</td>\n",
       "      <td>1000.000000</td>\n",
       "      <td>1000.000000</td>\n",
       "      <td>1000.000000</td>\n",
       "    </tr>\n",
       "    <tr>\n",
       "      <th>mean</th>\n",
       "      <td>251.68300</td>\n",
       "      <td>50.115000</td>\n",
       "      <td>5.017000</td>\n",
       "      <td>250.957780</td>\n",
       "      <td>1256.171040</td>\n",
       "      <td>42.449000</td>\n",
       "    </tr>\n",
       "    <tr>\n",
       "      <th>std</th>\n",
       "      <td>141.79995</td>\n",
       "      <td>29.196853</td>\n",
       "      <td>2.591414</td>\n",
       "      <td>141.940459</td>\n",
       "      <td>1035.207237</td>\n",
       "      <td>15.139306</td>\n",
       "    </tr>\n",
       "    <tr>\n",
       "      <th>min</th>\n",
       "      <td>1.00000</td>\n",
       "      <td>1.000000</td>\n",
       "      <td>1.000000</td>\n",
       "      <td>5.010000</td>\n",
       "      <td>5.990000</td>\n",
       "      <td>18.000000</td>\n",
       "    </tr>\n",
       "    <tr>\n",
       "      <th>25%</th>\n",
       "      <td>134.75000</td>\n",
       "      <td>25.000000</td>\n",
       "      <td>3.000000</td>\n",
       "      <td>128.182500</td>\n",
       "      <td>410.115000</td>\n",
       "      <td>29.750000</td>\n",
       "    </tr>\n",
       "    <tr>\n",
       "      <th>50%</th>\n",
       "      <td>247.00000</td>\n",
       "      <td>50.500000</td>\n",
       "      <td>5.000000</td>\n",
       "      <td>251.920000</td>\n",
       "      <td>932.130000</td>\n",
       "      <td>42.000000</td>\n",
       "    </tr>\n",
       "    <tr>\n",
       "      <th>75%</th>\n",
       "      <td>374.00000</td>\n",
       "      <td>75.000000</td>\n",
       "      <td>7.000000</td>\n",
       "      <td>373.385000</td>\n",
       "      <td>1891.215000</td>\n",
       "      <td>56.000000</td>\n",
       "    </tr>\n",
       "    <tr>\n",
       "      <th>max</th>\n",
       "      <td>500.00000</td>\n",
       "      <td>100.000000</td>\n",
       "      <td>9.000000</td>\n",
       "      <td>499.780000</td>\n",
       "      <td>4487.490000</td>\n",
       "      <td>69.000000</td>\n",
       "    </tr>\n",
       "  </tbody>\n",
       "</table>\n",
       "</div>"
      ],
      "text/plain": [
       "       Customer_ID   Product_ID     Quantity        Price  Total_Sales  \\\n",
       "count   1000.00000  1000.000000  1000.000000  1000.000000  1000.000000   \n",
       "mean     251.68300    50.115000     5.017000   250.957780  1256.171040   \n",
       "std      141.79995    29.196853     2.591414   141.940459  1035.207237   \n",
       "min        1.00000     1.000000     1.000000     5.010000     5.990000   \n",
       "25%      134.75000    25.000000     3.000000   128.182500   410.115000   \n",
       "50%      247.00000    50.500000     5.000000   251.920000   932.130000   \n",
       "75%      374.00000    75.000000     7.000000   373.385000  1891.215000   \n",
       "max      500.00000   100.000000     9.000000   499.780000  4487.490000   \n",
       "\n",
       "               Age  \n",
       "count  1000.000000  \n",
       "mean     42.449000  \n",
       "std      15.139306  \n",
       "min      18.000000  \n",
       "25%      29.750000  \n",
       "50%      42.000000  \n",
       "75%      56.000000  \n",
       "max      69.000000  "
      ]
     },
     "execution_count": 21,
     "metadata": {},
     "output_type": "execute_result"
    }
   ],
   "source": [
    "all_data.describe()"
   ]
  },
  {
   "cell_type": "markdown",
   "id": "33cc9abf-1bfa-4437-8b2c-484c90db09ba",
   "metadata": {},
   "source": [
    "### Creating a month column"
   ]
  },
  {
   "cell_type": "code",
   "execution_count": 22,
   "id": "07e3ec53-ae2f-4c1b-9f2a-31a2f9fba397",
   "metadata": {},
   "outputs": [],
   "source": [
    "all_data['Transaction_Date']= pd.to_datetime(all_data['Transaction_Date'])"
   ]
  },
  {
   "cell_type": "code",
   "execution_count": 23,
   "id": "e2f9215a-1e05-47aa-9959-9327438d121e",
   "metadata": {},
   "outputs": [],
   "source": [
    "all_data['Month'] = all_data['Transaction_Date'].dt.month"
   ]
  },
  {
   "cell_type": "code",
   "execution_count": 24,
   "id": "3fd61f8e-40d1-4480-a9c3-cbefe55060de",
   "metadata": {},
   "outputs": [
    {
     "data": {
      "text/html": [
       "<div>\n",
       "<style scoped>\n",
       "    .dataframe tbody tr th:only-of-type {\n",
       "        vertical-align: middle;\n",
       "    }\n",
       "\n",
       "    .dataframe tbody tr th {\n",
       "        vertical-align: top;\n",
       "    }\n",
       "\n",
       "    .dataframe thead th {\n",
       "        text-align: right;\n",
       "    }\n",
       "</style>\n",
       "<table border=\"1\" class=\"dataframe\">\n",
       "  <thead>\n",
       "    <tr style=\"text-align: right;\">\n",
       "      <th></th>\n",
       "      <th>Customer_ID</th>\n",
       "      <th>Transaction_Date</th>\n",
       "      <th>Product_ID</th>\n",
       "      <th>Product_Category</th>\n",
       "      <th>Quantity</th>\n",
       "      <th>Price</th>\n",
       "      <th>Total_Sales</th>\n",
       "      <th>Age</th>\n",
       "      <th>Gender</th>\n",
       "      <th>Location</th>\n",
       "      <th>Month</th>\n",
       "    </tr>\n",
       "  </thead>\n",
       "  <tbody>\n",
       "    <tr>\n",
       "      <th>0</th>\n",
       "      <td>103</td>\n",
       "      <td>2023-01-01</td>\n",
       "      <td>49</td>\n",
       "      <td>Clothing</td>\n",
       "      <td>4</td>\n",
       "      <td>114.93</td>\n",
       "      <td>459.72</td>\n",
       "      <td>68</td>\n",
       "      <td>Female</td>\n",
       "      <td>South</td>\n",
       "      <td>1</td>\n",
       "    </tr>\n",
       "    <tr>\n",
       "      <th>1</th>\n",
       "      <td>103</td>\n",
       "      <td>2023-01-09</td>\n",
       "      <td>27</td>\n",
       "      <td>Electronics</td>\n",
       "      <td>4</td>\n",
       "      <td>332.90</td>\n",
       "      <td>1331.60</td>\n",
       "      <td>68</td>\n",
       "      <td>Female</td>\n",
       "      <td>South</td>\n",
       "      <td>1</td>\n",
       "    </tr>\n",
       "    <tr>\n",
       "      <th>2</th>\n",
       "      <td>103</td>\n",
       "      <td>2024-07-25</td>\n",
       "      <td>7</td>\n",
       "      <td>Groceries</td>\n",
       "      <td>2</td>\n",
       "      <td>450.98</td>\n",
       "      <td>901.96</td>\n",
       "      <td>68</td>\n",
       "      <td>Female</td>\n",
       "      <td>South</td>\n",
       "      <td>7</td>\n",
       "    </tr>\n",
       "    <tr>\n",
       "      <th>3</th>\n",
       "      <td>436</td>\n",
       "      <td>2023-01-02</td>\n",
       "      <td>11</td>\n",
       "      <td>Books</td>\n",
       "      <td>1</td>\n",
       "      <td>164.23</td>\n",
       "      <td>164.23</td>\n",
       "      <td>51</td>\n",
       "      <td>Female</td>\n",
       "      <td>East</td>\n",
       "      <td>1</td>\n",
       "    </tr>\n",
       "    <tr>\n",
       "      <th>4</th>\n",
       "      <td>436</td>\n",
       "      <td>2025-03-14</td>\n",
       "      <td>18</td>\n",
       "      <td>Books</td>\n",
       "      <td>5</td>\n",
       "      <td>5.32</td>\n",
       "      <td>26.60</td>\n",
       "      <td>51</td>\n",
       "      <td>Female</td>\n",
       "      <td>East</td>\n",
       "      <td>3</td>\n",
       "    </tr>\n",
       "  </tbody>\n",
       "</table>\n",
       "</div>"
      ],
      "text/plain": [
       "   Customer_ID Transaction_Date  Product_ID Product_Category  Quantity  \\\n",
       "0          103       2023-01-01          49         Clothing         4   \n",
       "1          103       2023-01-09          27      Electronics         4   \n",
       "2          103       2024-07-25           7        Groceries         2   \n",
       "3          436       2023-01-02          11            Books         1   \n",
       "4          436       2025-03-14          18            Books         5   \n",
       "\n",
       "    Price  Total_Sales  Age  Gender Location  Month  \n",
       "0  114.93       459.72   68  Female    South      1  \n",
       "1  332.90      1331.60   68  Female    South      1  \n",
       "2  450.98       901.96   68  Female    South      7  \n",
       "3  164.23       164.23   51  Female     East      1  \n",
       "4    5.32        26.60   51  Female     East      3  "
      ]
     },
     "execution_count": 24,
     "metadata": {},
     "output_type": "execute_result"
    }
   ],
   "source": [
    "all_data.head()"
   ]
  },
  {
   "cell_type": "code",
   "execution_count": 25,
   "id": "66903638-18ba-465b-9ec3-1c780f74a35c",
   "metadata": {},
   "outputs": [],
   "source": [
    "## reconverting transaction date to obj\n",
    "all_data['Transaction_Date'] = all_data['Transaction_Date'].astype(str)"
   ]
  },
  {
   "cell_type": "code",
   "execution_count": 26,
   "id": "376d6a5c-eaeb-49d4-8666-ca9ffce47d05",
   "metadata": {},
   "outputs": [
    {
     "name": "stdout",
     "output_type": "stream",
     "text": [
      "<class 'pandas.core.frame.DataFrame'>\n",
      "RangeIndex: 1000 entries, 0 to 999\n",
      "Data columns (total 11 columns):\n",
      " #   Column            Non-Null Count  Dtype  \n",
      "---  ------            --------------  -----  \n",
      " 0   Customer_ID       1000 non-null   int64  \n",
      " 1   Transaction_Date  1000 non-null   object \n",
      " 2   Product_ID        1000 non-null   int64  \n",
      " 3   Product_Category  1000 non-null   object \n",
      " 4   Quantity          1000 non-null   int64  \n",
      " 5   Price             1000 non-null   float64\n",
      " 6   Total_Sales       1000 non-null   float64\n",
      " 7   Age               1000 non-null   int64  \n",
      " 8   Gender            1000 non-null   object \n",
      " 9   Location          1000 non-null   object \n",
      " 10  Month             1000 non-null   int32  \n",
      "dtypes: float64(2), int32(1), int64(4), object(4)\n",
      "memory usage: 82.2+ KB\n"
     ]
    }
   ],
   "source": [
    "all_data.info()"
   ]
  },
  {
   "cell_type": "markdown",
   "id": "970e793e-4008-4e02-a97c-978d920a5c2a",
   "metadata": {},
   "source": [
    "##  DATA INSIGHTS"
   ]
  },
  {
   "cell_type": "code",
   "execution_count": 27,
   "id": "120c306d-e21a-434e-8f73-80c1b9527964",
   "metadata": {},
   "outputs": [],
   "source": [
    "import seaborn as sns\n",
    "import matplotlib.pyplot as plt"
   ]
  },
  {
   "cell_type": "markdown",
   "id": "4af24cba-168e-47c4-b731-462a0f17203a",
   "metadata": {},
   "source": [
    "### 1. Distribution of age"
   ]
  },
  {
   "cell_type": "code",
   "execution_count": 28,
   "id": "a3339634-bcb2-42d6-80c4-9a63929998ca",
   "metadata": {},
   "outputs": [
    {
     "name": "stderr",
     "output_type": "stream",
     "text": [
      "C:\\Users\\admin\\anaconda3\\Lib\\site-packages\\seaborn\\_oldcore.py:1119: FutureWarning: use_inf_as_na option is deprecated and will be removed in a future version. Convert inf values to NaN before operating instead.\n",
      "  with pd.option_context('mode.use_inf_as_na', True):\n"
     ]
    },
    {
     "data": {
      "image/png": "[encoded data removed]",
      "text/plain": [
       "<Figure size 640x480 with 1 Axes>"
      ]
     },
     "metadata": {},
     "output_type": "display_data"
    }
   ],
   "source": [
    "sns.histplot(all_data['Age'], bins=30)\n",
    "plt.show()"
   ]
  },
  {
   "cell_type": "code",
   "execution_count": 29,
   "id": "1ece083e-b63e-4409-9c69-d14e12fe9098",
   "metadata": {},
   "outputs": [
    {
     "name": "stdout",
     "output_type": "stream",
     "text": [
      "The most common age is: 59\n"
     ]
    }
   ],
   "source": [
    "# Age that is most common\n",
    "most_common_age = all_data['Age'].mode()[0]\n",
    "print(\"The most common age is:\", most_common_age)"
   ]
  },
  {
   "cell_type": "markdown",
   "id": "09bbdf1d-1df1-4210-b16a-efeab397118b",
   "metadata": {},
   "source": [
    "### 2. Which is the most sold product category"
   ]
  },
  {
   "cell_type": "code",
   "execution_count": 30,
   "id": "0aa24464-f478-40cb-a6f8-36a163c12338",
   "metadata": {},
   "outputs": [],
   "source": [
    "counts = sales['Product_Category'].value_counts()"
   ]
  },
  {
   "cell_type": "code",
   "execution_count": 31,
   "id": "96689987-d8e4-47dc-ab6d-3dd0b63df53a",
   "metadata": {},
   "outputs": [
    {
     "data": {
      "image/png": "[encoded data removed]",
      "text/plain": [
       "<Figure size 640x480 with 1 Axes>"
      ]
     },
     "metadata": {},
     "output_type": "display_data"
    }
   ],
   "source": [
    "plt.bar(counts.index, counts.values)\n",
    "plt.xlabel('Product Category')\n",
    "plt.ylabel('Number of Sales')\n",
    "plt.title('Sales per Product Category')\n",
    "plt.show()"
   ]
  },
  {
   "cell_type": "markdown",
   "id": "e0870437-afbb-49f2-aa2b-560090c2fb45",
   "metadata": {},
   "source": [
    "### 3. What was the best month for sales? How much was earned that month?"
   ]
  },
  {
   "cell_type": "code",
   "execution_count": 32,
   "id": "424d160a-5b6c-4a6a-b0c7-f6985707f785",
   "metadata": {
    "scrolled": true
   },
   "outputs": [],
   "source": [
    "sales_byMonth = all_data.groupby('Month').sum()"
   ]
  },
  {
   "cell_type": "code",
   "execution_count": 33,
   "id": "25c9e589-428e-468d-98f4-a26fdff9e025",
   "metadata": {},
   "outputs": [
    {
     "data": {
      "image/png": "[encoded data removed]",
      "text/plain": [
       "<Figure size 640x480 with 1 Axes>"
      ]
     },
     "metadata": {},
     "output_type": "display_data"
    }
   ],
   "source": [
    "months = range(1,13)\n",
    "plt.bar(months, sales_byMonth['Total_Sales'])\n",
    "plt.xticks(months)\n",
    "plt.ylabel('Sales in USD($)')\n",
    "plt.xlabel('Month Number')\n",
    "plt.title('Monthly Sales')\n",
    "plt.show()"
   ]
  },
  {
   "cell_type": "code",
   "execution_count": 34,
   "id": "85b56e8e-2584-4c7c-9435-4838db66f919",
   "metadata": {},
   "outputs": [
    {
     "data": {
      "text/plain": [
       "143715.41"
      ]
     },
     "execution_count": 34,
     "metadata": {},
     "output_type": "execute_result"
    }
   ],
   "source": [
    "## highest sale amount\n",
    "all_data.groupby('Month')['Total_Sales'].sum().max()"
   ]
  },
  {
   "cell_type": "markdown",
   "id": "1834fe7b-9f83-408b-b5c4-a12ffd1af089",
   "metadata": {},
   "source": [
    "### 4.Distribution of Gender in our dataset"
   ]
  },
  {
   "cell_type": "code",
   "execution_count": 35,
   "id": "dab7213b-73b0-4b93-85f6-5967b64fbbba",
   "metadata": {},
   "outputs": [
    {
     "data": {
      "image/png": "[encoded data removed]",
      "text/plain": [
       "<Figure size 640x480 with 1 Axes>"
      ]
     },
     "metadata": {},
     "output_type": "display_data"
    }
   ],
   "source": [
    "gender_counts = all_data['Gender'].value_counts()\n",
    "\n",
    "\n",
    "plt.bar(gender_counts.index, gender_counts.values)\n",
    "plt.xlabel('Gender')\n",
    "plt.ylabel('Number of Customers')\n",
    "plt.title('Gender Distribution by Customer ID')\n",
    "plt.show()"
   ]
  },
  {
   "cell_type": "markdown",
   "id": "72930ce2-7544-49ee-9e0e-5a0f4e9d5ccf",
   "metadata": {},
   "source": [
    "### 5. Product distribution based on each gender"
   ]
  },
  {
   "cell_type": "code",
   "execution_count": 44,
   "id": "a040b429-153d-47f5-abda-b78d04acbd48",
   "metadata": {},
   "outputs": [],
   "source": [
    "product_distribution = all_data.groupby(['Product_Category', 'Gender']).size().reset_index(name='Count')"
   ]
  },
  {
   "cell_type": "code",
   "execution_count": 58,
   "id": "08ce6254-ad4c-4f74-a9d8-c628a9f3aeba",
   "metadata": {
    "scrolled": true
   },
   "outputs": [
    {
     "data": {
      "image/png": "[encoded data removed]",
      "text/plain": [
       "<Figure size 1000x400 with 1 Axes>"
      ]
     },
     "metadata": {},
     "output_type": "display_data"
    }
   ],
   "source": [
    "plt.figure(figsize=(10, 4))\n",
    "sns.barplot(x='Product_Category', y='Count', hue='Gender', data=product_distribution)\n",
    "plt.xlabel('Product Category')\n",
    "plt.ylabel('Number of Sales')\n",
    "plt.title('Product Distribution by Gender')\n",
    "plt.legend(title='Gender')\n",
    "plt.show()"
   ]
  },
  {
   "cell_type": "code",
   "execution_count": 351,
   "id": "7d9dbe32-d6e8-41ac-811d-ac4e1b0d9397",
   "metadata": {},
   "outputs": [],
   "source": [
    "File_path = r'C:\\Users\\admin\\Desktop\\Sales\\Cleaned_data.csv'"
   ]
  },
  {
   "cell_type": "code",
   "execution_count": 352,
   "id": "3762e6ec-94e1-47af-b553-11b945f8656d",
   "metadata": {
    "scrolled": true
   },
   "outputs": [
    {
     "name": "stdout",
     "output_type": "stream",
     "text": [
      "Data saved successfully to 'C:\\Users\\admin\\Desktop\\Sales\\Cleaned_data.csv'.\n"
     ]
    }
   ],
   "source": [
    "all_data.to_csv(File_path, index=False)\n",
    "\n",
    "print(f\"Data saved successfully to '{File_path}'.\")"
   ]
  }
 ],
 "metadata": {
  "kernelspec": {
   "display_name": "Python 3 (ipykernel)",
   "language": "python",
   "name": "python3"
  },
  "language_info": {
   "codemirror_mode": {
    "name": "ipython",
    "version": 3
   },
   "file_extension": ".py",
   "mimetype": "text/x-python",
   "name": "python",
   "nbconvert_exporter": "python",
   "pygments_lexer": "ipython3",
   "version": "3.11.7"
  }
 },
 "nbformat": 4,
 "nbformat_minor": 5
}
